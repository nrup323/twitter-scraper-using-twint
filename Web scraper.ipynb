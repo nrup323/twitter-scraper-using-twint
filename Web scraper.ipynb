{
 "cells": [
  {
   "cell_type": "code",
   "execution_count": 8,
   "metadata": {
    "scrolled": true
   },
   "outputs": [
    {
     "name": "stdout",
     "output_type": "stream",
     "text": [
      "Done\n"
     ]
    }
   ],
   "source": [
    "#import requests\n",
    "#import html5lib\n",
    "#import sys\n",
    "#import webbrowser\n",
    "#from bs4 import BeautifulSoup\n",
    "import re\n",
    "from googlesearch import search\n",
    "#pip install google\n",
    "import twint\n",
    "#pip3 install twint\n",
    "import nest_asyncio\n",
    "#pip3 install nest_asyncio\n",
    "nest_asyncio.apply()\n",
    "print(\"Done\")"
   ]
  },
  {
   "cell_type": "code",
   "execution_count": 11,
   "metadata": {
    "scrolled": true
   },
   "outputs": [
    {
     "name": "stdout",
     "output_type": "stream",
     "text": [
      "Give me the nameRatan Tata\n",
      "https://twitter.com/RNTata2000?ref_src=twsrc%5Egoogle%7Ctwcamp%5Eserp%7Ctwgr%5Eauthor\n",
      "RNTata2000\n"
     ]
    }
   ],
   "source": [
    "#https://www.geeksforgeeks.org/performing-google-search-using-python-code/\n",
    "name = input(\"Give me the name\")\n",
    "query = \"twitter\" + name \n",
    "#print(query)\n",
    "for j in search(query, tld=\"com\", num=1, stop=1, pause=2): \n",
    "    print(j) \n",
    "    if(j.find(\"twitter.com\")):\n",
    "        atpos  = j.find('?')\n",
    "        username = j[20: atpos]\n",
    "        print(username)\n",
    "\n",
    "        \n",
    "        \n"
   ]
  },
  {
   "cell_type": "code",
   "execution_count": 3,
   "metadata": {
    "scrolled": true
   },
   "outputs": [
    {
     "name": "stdout",
     "output_type": "stream",
     "text": [
      "1357191263267733505 2021-02-04 10:26:27 +0530 <chetan_bhagat> My stance on farm bills remains same, they give the farmer more choice. My col from Sep, well before the current situation started.    https://t.co/QW5EvuVJoP\n",
      "1357190622562709504 2021-02-04 10:23:54 +0530 <chetan_bhagat> Of course govt will be concerned if influencers with global reach comment against farm bills.  This doesn't mean the bills are wrong,or the govt is defeated.   And it definitely doesn't mean you should enjoy our country being shamed by people who don't know the full picture.\n",
      "1357188656214249472 2021-02-04 10:16:05 +0530 <chetan_bhagat> Indian farmer incomes are too low, less than half the average per capita GDP of India. The new laws liberalize agriculture and attempt to increase incomes.  This isn't about a twitter battle or which pop star said what. This is about true change in our country. Take it seriously.\n",
      "1357188241812783114 2021-02-04 10:14:26 +0530 <chetan_bhagat> Most developed countries have very high private sector participation in agriculture. That's how farmer incomes rise. The fear of change will never let you change, even for the better.  My column on farmer bills, and the status quo- change paradox:   https://t.co/4LADYCDD01\n",
      "1357187458455240710 2021-02-04 10:11:20 +0530 <chetan_bhagat> Read before you outrage. Without the private sector, without the farmer's having more choice, India's agriculture sector will never improve. All sympathetic int'l pop icons should note this before reacting.  My col on Farmer Bills. Do read, then comment:  https://t.co/QW5EvuVJoP\n",
      "1356938926003380224 2021-02-03 17:43:45 +0530 <chetan_bhagat> My favorite Rihanna song:  'Love the way you lie.'\n",
      "1356517998652100610 2021-02-02 13:51:08 +0530 <chetan_bhagat> Social media activism ( contd part 2/2)  https://t.co/mAMyzdqmwW\n",
      "1356517518794321922 2021-02-02 13:49:14 +0530 <chetan_bhagat> New Video: Social media activism.  Are you obsessed with your likes or dislikes on social media? Fighting for something, trolling people or celebrities? Well this video is for you!  (Part 1/2)  https://t.co/uxv9tzPXfv\n",
      "1356453942201212928 2021-02-02 09:36:36 +0530 <chetan_bhagat> Israel population is 9million, around that of Hyderabad,. Vaccine has reached 60% of Israel's population (highest in the world currently).  Still, Israel reported 8.8k Covid cases yest.  India, with 1400million people, and &lt;1% vaccine penetration reported 8.5k Covid cases yest.\n",
      "1356254001176559617 2021-02-01 20:22:06 +0530 <chetan_bhagat> My take\n",
      "1356239100097875969 2021-02-01 19:22:53 +0530 <chetan_bhagat> As long as Covid continues to recede like it has, Indian economy will boom in 2021. There’s tremendous pent up demand from 2020, the reopening and the spending heavy budget with no major new taxes will create an economic boom in 2021. Good budget.\n",
      "1356162484726493185 2021-02-01 14:18:27 +0530 <chetan_bhagat> 2020 की ब्लॉकबस्टर किताब अब हिंदी में! वन अरेंज्ड मर्डर को आज ही प्री-ऑर्डर करें:  https://t.co/X0dVmPItL9  https://t.co/vVLt9I6unS\n",
      "1356143692147396609 2021-02-01 13:03:46 +0530 <chetan_bhagat> A budget that moves towards more reform, a budget that increases spending in productive areas, a budget that attempts to ease filing taxes - overall very good in the middle of a pandemic. With Covid receding and this budget, Indian economy will boom in 2021. Very good budget.\n",
      "1356105804554797057 2021-02-01 10:33:13 +0530 <chetan_bhagat> Reminder to all those who need it :)  See me all day today on @TimesNow on the budget!\n",
      "1355876259268444162 2021-01-31 19:21:05 +0530 <chetan_bhagat> My column today!\n",
      "1355742220951891968 2021-01-31 10:28:28 +0530 <chetan_bhagat> Gm all,  “Face it, world. India has tackled Covid better than most advanced nations,” my column in TOI today.  Do read and share!   https://t.co/jTObsSzLKd\n",
      "1354012263548473345 2021-01-26 15:54:14 +0530 <chetan_bhagat> Happy Republic Day! 🇮🇳  https://t.co/xY8O8VIsZV\n",
      "1352479692192845824 2021-01-22 10:24:21 +0530 <chetan_bhagat> See me on February 1,2021 budget day, all day on Times Now, as I help simplify and decode the budget. #feb1withtimesnow   @obaidmihd9 @RShivshankar @navikakumar  https://t.co/GkFp80vCaZ\n",
      "1351943187338694657 2021-01-20 22:52:28 +0530 <chetan_bhagat> Big day for the USA today.\n",
      "1351420861111156736 2021-01-19 12:16:56 +0530 <chetan_bhagat> India Corona Deaths (yesterday): 137  India average daily road accident deaths: 414  #perspective\n",
      "1351419934245490688 2021-01-19 12:13:15 +0530 <chetan_bhagat> How self-hating bias works:  Rich, developed country reduces corona cases 90% = Wow, excellent governance, so much effort.  India reduces corona cases 90% = must be luck, fake reporting etc etc.  Give credit where it is due. India doing excellent improvement on Corona numbers.\n",
      "1351418740877848579 2021-01-19 12:08:30 +0530 <chetan_bhagat> What is happening with Corona cases decline in India is nothing short of a miracle. If any developed country had achieved the trends we have, it would be recognized a lot more.  A near 90% drop from peak in New Daily Cases. Thank you to God. Congrats to all Indians!\n",
      "1351418242095431681 2021-01-19 12:06:31 +0530 <chetan_bhagat> India pop: ~1400mn (over 4x of USA)  USA pop: ~330mn  India Active cases: 2lakhs (2% of USA) USA Active: 96 lakhs  India Daily New Cases: 10k (7% of USA) USA Daily New: 142k  God's grace, India's done phenomenally well in lowering Corona cases. The world needs to recognize that.\n",
      "1350306709374455825 2021-01-16 10:29:41 +0530 <chetan_bhagat> Gm all,  “When emotions Trump reason: Indians should pay heed to lessons of US Capitol attack, when unchecked emotions erupted,” my column in TOI today.  https://t.co/dBljJ5lqVL  Do read and share!\n",
      "1349960196387291137 2021-01-15 11:32:46 +0530 <chetan_bhagat> Hi guys, check out my interview on @BBCWorld tonight at 9pm on #WorkLifeIndia where we talk about reading habits and more!  https://t.co/EAyxCSnVeG\n",
      "1348840155428212737 2021-01-12 09:22:07 +0530 <chetan_bhagat> You are the reason I write. Thanks for making my day.\n",
      "1348592779241275396 2021-01-11 16:59:08 +0530 <chetan_bhagat> My original video on Nationalism:\n",
      "1348552120962699267 2021-01-11 14:17:35 +0530 <chetan_bhagat> Dealing with extreme leftists (follow up to my earlier video on extreme nationalism. (Part 2 of 2)  https://t.co/vSpUYE9vat\n",
      "1348550404859076608 2021-01-11 14:10:46 +0530 <chetan_bhagat> Dealing with extreme leftists (follow up to my earlier video on extreme nationalism. (Part 1 of 2)  https://t.co/zh8VMW76tO\n",
      "1347866378938716160 2021-01-09 16:52:41 +0530 <chetan_bhagat> Fantastic 1-min video. Proud to be associated with @IndiaToday in various forms, from panelist to conclave speaker to sahitya aajtak and more. One of my proudest moments was to be on  @IndiaToday cover. #IndiaTodayGroupAt45  retains its magic - and quest for the truth! Congrats!\n",
      "1345978714945798146 2021-01-04 11:51:47 +0530 <chetan_bhagat> Congratulations ko Hindi mein kya kehte hain? Mubarak aapko bahut bahut!\n",
      "1345602519272046592 2021-01-03 10:56:55 +0530 <chetan_bhagat> Gm all,  “Protsahan: Paying every Indian 5,000 (as expirable vouchers) can boost the economy. How it can be done:,” my column in TOI today.  Do read FULLY to understand the scheme details before commenting. Civil and thought through feedback welcome!   https://t.co/9TVSc4gXYw…\n",
      "[!] No more data! Scraping will stop now.\n",
      "found 0 deleted tweets in this search.\n"
     ]
    }
   ],
   "source": [
    "#https://github.com/twintproject/twint\n",
    "c = twint.Config()\n",
    "c.Username = username\n",
    "#c.search = \" \"\n",
    "c.Since = \"2021-01-01\"\n",
    "c.limit = 1000\n",
    "c.Store_csv = True\n",
    "c.Output = str(username)+  \".csv\"\n",
    "twint.run.Search(c)"
   ]
  },
  {
   "cell_type": "code",
   "execution_count": 4,
   "metadata": {
    "scrolled": true
   },
   "outputs": [
    {
     "data": {
      "text/html": [
       "<div>\n",
       "<style scoped>\n",
       "    .dataframe tbody tr th:only-of-type {\n",
       "        vertical-align: middle;\n",
       "    }\n",
       "\n",
       "    .dataframe tbody tr th {\n",
       "        vertical-align: top;\n",
       "    }\n",
       "\n",
       "    .dataframe thead th {\n",
       "        text-align: right;\n",
       "    }\n",
       "</style>\n",
       "<table border=\"1\" class=\"dataframe\">\n",
       "  <thead>\n",
       "    <tr style=\"text-align: right;\">\n",
       "      <th></th>\n",
       "      <th>id</th>\n",
       "      <th>conversation_id</th>\n",
       "      <th>created_at</th>\n",
       "      <th>date</th>\n",
       "      <th>time</th>\n",
       "      <th>timezone</th>\n",
       "      <th>user_id</th>\n",
       "      <th>username</th>\n",
       "      <th>name</th>\n",
       "      <th>place</th>\n",
       "      <th>...</th>\n",
       "      <th>geo</th>\n",
       "      <th>source</th>\n",
       "      <th>user_rt_id</th>\n",
       "      <th>user_rt</th>\n",
       "      <th>retweet_id</th>\n",
       "      <th>reply_to</th>\n",
       "      <th>retweet_date</th>\n",
       "      <th>translate</th>\n",
       "      <th>trans_src</th>\n",
       "      <th>trans_dest</th>\n",
       "    </tr>\n",
       "  </thead>\n",
       "  <tbody>\n",
       "    <tr>\n",
       "      <th>0</th>\n",
       "      <td>1357191263267733505</td>\n",
       "      <td>1357191263267733505</td>\n",
       "      <td>2021-02-04 10:26:27 IST</td>\n",
       "      <td>2021-02-04</td>\n",
       "      <td>10:26:27</td>\n",
       "      <td>530</td>\n",
       "      <td>44588485</td>\n",
       "      <td>chetan_bhagat</td>\n",
       "      <td>Chetan Bhagat</td>\n",
       "      <td>NaN</td>\n",
       "      <td>...</td>\n",
       "      <td>NaN</td>\n",
       "      <td>NaN</td>\n",
       "      <td>NaN</td>\n",
       "      <td>NaN</td>\n",
       "      <td>NaN</td>\n",
       "      <td>[]</td>\n",
       "      <td>NaN</td>\n",
       "      <td>NaN</td>\n",
       "      <td>NaN</td>\n",
       "      <td>NaN</td>\n",
       "    </tr>\n",
       "    <tr>\n",
       "      <th>1</th>\n",
       "      <td>1357190622562709504</td>\n",
       "      <td>1357190622562709504</td>\n",
       "      <td>2021-02-04 10:23:54 IST</td>\n",
       "      <td>2021-02-04</td>\n",
       "      <td>10:23:54</td>\n",
       "      <td>530</td>\n",
       "      <td>44588485</td>\n",
       "      <td>chetan_bhagat</td>\n",
       "      <td>Chetan Bhagat</td>\n",
       "      <td>NaN</td>\n",
       "      <td>...</td>\n",
       "      <td>NaN</td>\n",
       "      <td>NaN</td>\n",
       "      <td>NaN</td>\n",
       "      <td>NaN</td>\n",
       "      <td>NaN</td>\n",
       "      <td>[]</td>\n",
       "      <td>NaN</td>\n",
       "      <td>NaN</td>\n",
       "      <td>NaN</td>\n",
       "      <td>NaN</td>\n",
       "    </tr>\n",
       "    <tr>\n",
       "      <th>2</th>\n",
       "      <td>1357188656214249472</td>\n",
       "      <td>1357188656214249472</td>\n",
       "      <td>2021-02-04 10:16:05 IST</td>\n",
       "      <td>2021-02-04</td>\n",
       "      <td>10:16:05</td>\n",
       "      <td>530</td>\n",
       "      <td>44588485</td>\n",
       "      <td>chetan_bhagat</td>\n",
       "      <td>Chetan Bhagat</td>\n",
       "      <td>NaN</td>\n",
       "      <td>...</td>\n",
       "      <td>NaN</td>\n",
       "      <td>NaN</td>\n",
       "      <td>NaN</td>\n",
       "      <td>NaN</td>\n",
       "      <td>NaN</td>\n",
       "      <td>[]</td>\n",
       "      <td>NaN</td>\n",
       "      <td>NaN</td>\n",
       "      <td>NaN</td>\n",
       "      <td>NaN</td>\n",
       "    </tr>\n",
       "    <tr>\n",
       "      <th>3</th>\n",
       "      <td>1357188241812783114</td>\n",
       "      <td>1357188241812783114</td>\n",
       "      <td>2021-02-04 10:14:26 IST</td>\n",
       "      <td>2021-02-04</td>\n",
       "      <td>10:14:26</td>\n",
       "      <td>530</td>\n",
       "      <td>44588485</td>\n",
       "      <td>chetan_bhagat</td>\n",
       "      <td>Chetan Bhagat</td>\n",
       "      <td>NaN</td>\n",
       "      <td>...</td>\n",
       "      <td>NaN</td>\n",
       "      <td>NaN</td>\n",
       "      <td>NaN</td>\n",
       "      <td>NaN</td>\n",
       "      <td>NaN</td>\n",
       "      <td>[]</td>\n",
       "      <td>NaN</td>\n",
       "      <td>NaN</td>\n",
       "      <td>NaN</td>\n",
       "      <td>NaN</td>\n",
       "    </tr>\n",
       "    <tr>\n",
       "      <th>4</th>\n",
       "      <td>1357187458455240710</td>\n",
       "      <td>1357187458455240710</td>\n",
       "      <td>2021-02-04 10:11:20 IST</td>\n",
       "      <td>2021-02-04</td>\n",
       "      <td>10:11:20</td>\n",
       "      <td>530</td>\n",
       "      <td>44588485</td>\n",
       "      <td>chetan_bhagat</td>\n",
       "      <td>Chetan Bhagat</td>\n",
       "      <td>NaN</td>\n",
       "      <td>...</td>\n",
       "      <td>NaN</td>\n",
       "      <td>NaN</td>\n",
       "      <td>NaN</td>\n",
       "      <td>NaN</td>\n",
       "      <td>NaN</td>\n",
       "      <td>[]</td>\n",
       "      <td>NaN</td>\n",
       "      <td>NaN</td>\n",
       "      <td>NaN</td>\n",
       "      <td>NaN</td>\n",
       "    </tr>\n",
       "  </tbody>\n",
       "</table>\n",
       "<p>5 rows × 36 columns</p>\n",
       "</div>"
      ],
      "text/plain": [
       "                    id      conversation_id               created_at  \\\n",
       "0  1357191263267733505  1357191263267733505  2021-02-04 10:26:27 IST   \n",
       "1  1357190622562709504  1357190622562709504  2021-02-04 10:23:54 IST   \n",
       "2  1357188656214249472  1357188656214249472  2021-02-04 10:16:05 IST   \n",
       "3  1357188241812783114  1357188241812783114  2021-02-04 10:14:26 IST   \n",
       "4  1357187458455240710  1357187458455240710  2021-02-04 10:11:20 IST   \n",
       "\n",
       "         date      time  timezone   user_id       username           name  \\\n",
       "0  2021-02-04  10:26:27       530  44588485  chetan_bhagat  Chetan Bhagat   \n",
       "1  2021-02-04  10:23:54       530  44588485  chetan_bhagat  Chetan Bhagat   \n",
       "2  2021-02-04  10:16:05       530  44588485  chetan_bhagat  Chetan Bhagat   \n",
       "3  2021-02-04  10:14:26       530  44588485  chetan_bhagat  Chetan Bhagat   \n",
       "4  2021-02-04  10:11:20       530  44588485  chetan_bhagat  Chetan Bhagat   \n",
       "\n",
       "   place  ... geo source user_rt_id user_rt retweet_id  reply_to  \\\n",
       "0    NaN  ... NaN    NaN        NaN     NaN        NaN        []   \n",
       "1    NaN  ... NaN    NaN        NaN     NaN        NaN        []   \n",
       "2    NaN  ... NaN    NaN        NaN     NaN        NaN        []   \n",
       "3    NaN  ... NaN    NaN        NaN     NaN        NaN        []   \n",
       "4    NaN  ... NaN    NaN        NaN     NaN        NaN        []   \n",
       "\n",
       "   retweet_date  translate trans_src trans_dest  \n",
       "0           NaN        NaN       NaN        NaN  \n",
       "1           NaN        NaN       NaN        NaN  \n",
       "2           NaN        NaN       NaN        NaN  \n",
       "3           NaN        NaN       NaN        NaN  \n",
       "4           NaN        NaN       NaN        NaN  \n",
       "\n",
       "[5 rows x 36 columns]"
      ]
     },
     "execution_count": 4,
     "metadata": {},
     "output_type": "execute_result"
    }
   ],
   "source": [
    "#reading a csv file\n",
    "\n",
    "import pandas as pd\n",
    "\n",
    "data = pd.read_csv(str(username)+  \".csv\") \n",
    "#data.describe()\n",
    "data.head()\n",
    "\n"
   ]
  },
  {
   "cell_type": "code",
   "execution_count": 5,
   "metadata": {
    "scrolled": true
   },
   "outputs": [
    {
     "data": {
      "text/plain": [
       "pandas.core.series.Series"
      ]
     },
     "execution_count": 5,
     "metadata": {},
     "output_type": "execute_result"
    }
   ],
   "source": [
    "twits = (data['tweet'])\n",
    "#type(twits)\n",
    "#print(twits)\n",
    "#twits.shape\n",
    "type(twits)"
   ]
  },
  {
   "cell_type": "code",
   "execution_count": 6,
   "metadata": {
    "scrolled": true
   },
   "outputs": [],
   "source": [
    "twits.to_csv(str(username)+ \"_final.csv\")\n",
    "\n",
    "#t = data['tweet'].to_numpy()\n",
    "#print(t)"
   ]
  },
  {
   "cell_type": "code",
   "execution_count": 7,
   "metadata": {
    "scrolled": true
   },
   "outputs": [
    {
     "ename": "NameError",
     "evalue": "name 't' is not defined",
     "output_type": "error",
     "traceback": [
      "\u001b[0;31m---------------------------------------------------------------------------\u001b[0m",
      "\u001b[0;31mNameError\u001b[0m                                 Traceback (most recent call last)",
      "\u001b[0;32m<ipython-input-7-e99f08403223>\u001b[0m in \u001b[0;36m<module>\u001b[0;34m\u001b[0m\n\u001b[0;32m----> 1\u001b[0;31m \u001b[0mt\u001b[0m\u001b[0;34m.\u001b[0m\u001b[0mshape\u001b[0m\u001b[0;34m\u001b[0m\u001b[0;34m\u001b[0m\u001b[0m\n\u001b[0m\u001b[1;32m      2\u001b[0m \u001b[0mtype\u001b[0m\u001b[0;34m(\u001b[0m\u001b[0mt\u001b[0m\u001b[0;34m)\u001b[0m\u001b[0;34m\u001b[0m\u001b[0;34m\u001b[0m\u001b[0m\n",
      "\u001b[0;31mNameError\u001b[0m: name 't' is not defined"
     ]
    }
   ],
   "source": [
    "t.shape\n",
    "type(t)"
   ]
  },
  {
   "cell_type": "code",
   "execution_count": null,
   "metadata": {
    "scrolled": true
   },
   "outputs": [],
   "source": [
    "import numpy as np\n",
    "  \n",
    "#x = geek.arange(0, 10, 1) \n",
    "#print(\"x is:\") \n",
    "#print(x) \n",
    "  \n",
    "# X is an array \n",
    "c = np.savetxt(str(username) + '.txt', t, delimiter =', ')    \n",
    "a = open(str(username) + '.txt', 'r')# open file in read mode \n",
    "  \n",
    "print(\"the file contains:\") \n",
    "print(a.read()) "
   ]
  },
  {
   "cell_type": "code",
   "execution_count": null,
   "metadata": {
    "scrolled": true
   },
   "outputs": [],
   "source": [
    "#vaibhaw ka kam \n",
    "hand = open('out.txt')\n",
    "for line in hand:\n",
    "    line = line.rstrip()\n",
    "    print(line)\n",
    "\n",
    "\n",
    "\n"
   ]
  },
  {
   "cell_type": "code",
   "execution_count": null,
   "metadata": {
    "scrolled": true
   },
   "outputs": [],
   "source": []
  },
  {
   "cell_type": "code",
   "execution_count": null,
   "metadata": {
    "scrolled": true
   },
   "outputs": [],
   "source": []
  },
  {
   "cell_type": "code",
   "execution_count": null,
   "metadata": {
    "scrolled": true
   },
   "outputs": [],
   "source": []
  },
  {
   "cell_type": "code",
   "execution_count": null,
   "metadata": {
    "scrolled": true
   },
   "outputs": [],
   "source": [
    "# importing panda library \n",
    "import pandas as pd \n",
    "  \n",
    "# readinag given csv file \n",
    "# and creating dataframe \n",
    "dataframe1 = pd.read_csv(\"out.txt\") \n",
    "  \n",
    "# storing this dataframe in a csv file \n",
    "dataframe1.to_csv('out.csv',  \n",
    "                  index = None) "
   ]
  },
  {
   "cell_type": "code",
   "execution_count": null,
   "metadata": {
    "scrolled": true
   },
   "outputs": [],
   "source": [
    "d = pd.read_csv('out.csv')\n",
    "#d.info()\n",
    "#d.head()\n",
    "print(d[\"TEXT\"])\n"
   ]
  },
  {
   "cell_type": "code",
   "execution_count": null,
   "metadata": {
    "scrolled": true
   },
   "outputs": [],
   "source": [
    "d.head()\n"
   ]
  },
  {
   "cell_type": "code",
   "execution_count": null,
   "metadata": {
    "scrolled": true
   },
   "outputs": [],
   "source": [
    "my_file = open(\"out.txt\", \"w\")\n",
    "\n",
    "my_file.write(\"First Line\\n\")\n",
    "my_file.write(\"Second Line\")\n",
    "my_file = open(\"test_file.txt\")\n",
    "Open file for reading\n",
    "\n",
    "content = my_file.read()"
   ]
  },
  {
   "cell_type": "code",
   "execution_count": null,
   "metadata": {
    "scrolled": true
   },
   "outputs": [],
   "source": []
  },
  {
   "cell_type": "code",
   "execution_count": null,
   "metadata": {
    "scrolled": true
   },
   "outputs": [],
   "source": []
  },
  {
   "cell_type": "code",
   "execution_count": null,
   "metadata": {
    "scrolled": true
   },
   "outputs": [],
   "source": []
  },
  {
   "cell_type": "code",
   "execution_count": null,
   "metadata": {
    "scrolled": true
   },
   "outputs": [],
   "source": [
    "import twint\n",
    "\n",
    "c = twint.Config()\n",
    "c.Username = \"noneprivacy\"\n",
    "c.Limit = 100\n",
    "c.Store_csv = True\n",
    "c.Output = \"none.csv\"\n",
    "c.Lang = \"en\"\n",
    "c.Translate = True\n",
    "c.TranslateDest = \"it\"\n",
    "twint.run.Search(c)"
   ]
  },
  {
   "cell_type": "code",
   "execution_count": null,
   "metadata": {
    "scrolled": true
   },
   "outputs": [],
   "source": []
  },
  {
   "cell_type": "code",
   "execution_count": null,
   "metadata": {
    "scrolled": true
   },
   "outputs": [],
   "source": []
  },
  {
   "cell_type": "code",
   "execution_count": null,
   "metadata": {
    "scrolled": true
   },
   "outputs": [],
   "source": [
    "#url  = 'https://www.google.com/search?q='\n",
    "#name = input(\"Give me the name\")\n",
    "#name = name.replace(\" \", \"+\")\n",
    "#print(name)\n",
    "\n",
    "#print(url + name)\n",
    "\n",
    "#r = requests.get(url)\n",
    "#htmlcontent = r.content\n",
    "#print(htmlcontent)\n",
    "#soup  = BeautifulSoup(htmlcontent, 'html.parser')\n",
    "\n",
    "#print(soup)\n",
    "\n",
    "#creting the soup\n",
    "#import re\n",
    "#x = 'https://twitter.com/narendramodi?ref_src=twsrc%5Egoogle%7Ctwcamp%5Eserp%7Ctwgr%5Eauthor'\n",
    "#atpos  = x.find('?')\n",
    "#print(x.find(\"twitter.com\"))\n",
    "#print(atpos)\n",
    "#stpos  = x.find('/', 10)\n",
    "#print(stpos)\n",
    "#username = x[stpos+1: atpos]\n",
    "#username = x[20: atpos]\n",
    "#print(username)\n",
    "#y = re.findall('^https://twitter.com/.+?:', x)\n",
    "#print(y)\n",
    "#y = \"none\"\n",
    "\n",
    "\n",
    "#title  =soup.title\n",
    "\n",
    "\n",
    "#print(title.string)\n",
    "#print(title)\n",
    "##print(title.string)\n",
    "#anchors = soup.find_all('a')\n",
    "#print(anchors)\n",
    "#paras = soup.find_all('p')\n",
    "#print(paras)"
   ]
  },
  {
   "cell_type": "code",
   "execution_count": null,
   "metadata": {
    "scrolled": true
   },
   "outputs": [],
   "source": []
  },
  {
   "cell_type": "code",
   "execution_count": null,
   "metadata": {
    "scrolled": true
   },
   "outputs": [],
   "source": []
  },
  {
   "cell_type": "code",
   "execution_count": null,
   "metadata": {
    "scrolled": true
   },
   "outputs": [],
   "source": []
  },
  {
   "cell_type": "code",
   "execution_count": null,
   "metadata": {
    "scrolled": true
   },
   "outputs": [],
   "source": []
  }
 ],
 "metadata": {
  "kernelspec": {
   "display_name": "Python 3",
   "language": "python",
   "name": "python3"
  },
  "language_info": {
   "codemirror_mode": {
    "name": "ipython",
    "version": 3
   },
   "file_extension": ".py",
   "mimetype": "text/x-python",
   "name": "python",
   "nbconvert_exporter": "python",
   "pygments_lexer": "ipython3",
   "version": "3.6.9"
  }
 },
 "nbformat": 4,
 "nbformat_minor": 4
}
